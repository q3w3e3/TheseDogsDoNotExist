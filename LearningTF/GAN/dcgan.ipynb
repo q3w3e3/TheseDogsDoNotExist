{
 "cells": [
  {
   "cell_type": "markdown",
   "metadata": {
    "colab_type": "text",
    "id": "_jQ1tEQCxwRx"
   },
   "source": [
    "##### Copyright 2019 The TensorFlow Authors."
   ]
  },
  {
   "source": [
    "#@title Licensed under the Apache License, Version 2.0 (the \"License\");\n",
    "# you may not use this file except in compliance with the License.\n",
    "# You may obtain a copy of the License at\n",
    "#\n",
    "# https://www.apache.org/licenses/LICENSE-2.0\n",
    "#\n",
    "# Unless required by applicable law or agreed to in writing, software\n",
    "# distributed under the License is distributed on an \"AS IS\" BASIS,\n",
    "# WITHOUT WARRANTIES OR CONDITIONS OF ANY KIND, either express or implied.\n",
    "# See the License for the specific language governing permissions and\n",
    "# limitations under the License."
   ],
   "cell_type": "code",
   "outputs": [],
   "metadata": {},
   "execution_count": 11
  },
  {
   "cell_type": "markdown",
   "metadata": {
    "colab_type": "text",
    "id": "rF2x3qooyBTI"
   },
   "source": [
    "# Deep Convolutional Generative Adversarial Network"
   ]
  },
  {
   "cell_type": "markdown",
   "metadata": {
    "colab_type": "text",
    "id": "0TD5ZrvEMbhZ"
   },
   "source": [
    "<table class=\"tfo-notebook-buttons\" align=\"left\">\n",
    "  <td>\n",
    "    <a target=\"_blank\" href=\"https://www.tensorflow.org/tutorials/generative/dcgan\">\n",
    "    <img src=\"https://www.tensorflow.org/images/tf_logo_32px.png\" />\n",
    "    View on TensorFlow.org</a>\n",
    "  </td>\n",
    "  <td>\n",
    "    <a target=\"_blank\" href=\"https://colab.research.google.com/github/tensorflow/docs/blob/master/site/en/tutorials/generative/dcgan.ipynb\">\n",
    "    <img src=\"https://www.tensorflow.org/images/colab_logo_32px.png\" />\n",
    "    Run in Google Colab</a>\n",
    "  </td>\n",
    "  <td>\n",
    "    <a target=\"_blank\" href=\"https://github.com/tensorflow/docs/blob/master/site/en/tutorials/generative/dcgan.ipynb\">\n",
    "    <img src=\"https://www.tensorflow.org/images/GitHub-Mark-32px.png\" />\n",
    "    View source on GitHub</a>\n",
    "  </td>\n",
    "  <td>\n",
    "    <a href=\"https://storage.googleapis.com/tensorflow_docs/docs/site/en/tutorials/generative/dcgan.ipynb\"><img src=\"https://www.tensorflow.org/images/download_logo_32px.png\" />Download notebook</a>\n",
    "  </td>\n",
    "</table>"
   ]
  },
  {
   "cell_type": "markdown",
   "metadata": {
    "colab_type": "text",
    "id": "ITZuApL56Mny"
   },
   "source": [
    "This tutorial demonstrates how to generate images of handwritten digits using a [Deep Convolutional Generative Adversarial Network](https://arxiv.org/pdf/1511.06434.pdf) (DCGAN). The code is written using the [Keras Sequential API](https://www.tensorflow.org/guide/keras) with a `tf.GradientTape` training loop."
   ]
  },
  {
   "cell_type": "markdown",
   "metadata": {
    "colab_type": "text",
    "id": "2MbKJY38Puy9"
   },
   "source": [
    "## What are GANs?\n",
    "[Generative Adversarial Networks](https://arxiv.org/abs/1406.2661) (GANs) are one of the most interesting ideas in computer science today. Two models are trained simultaneously by an adversarial process. A *generator* (\"the artist\") learns to create images that look real, while a *discriminator* (\"the art critic\") learns to tell real images apart from fakes.\n",
    "\n",
    "![A diagram of a generator and discriminator](./images/gan1.png)\n",
    "\n",
    "During training, the *generator* progressively becomes better at creating images that look real, while the *discriminator* becomes better at telling them apart. The process reaches equilibrium when the *discriminator* can no longer distinguish real images from fakes.\n",
    "\n",
    "![A second diagram of a generator and discriminator](./images/gan2.png)\n",
    "\n",
    "This notebook demonstrates this process on the MNIST dataset. The following animation shows a series of images produced by the *generator* as it was trained for 50 epochs. The images begin as random noise, and increasingly resemble hand written digits over time.\n",
    "\n",
    "![sample output](https://tensorflow.org/images/gan/dcgan.gif)\n",
    "\n",
    "To learn more about GANs, we recommend MIT's [Intro to Deep Learning](http://introtodeeplearning.com/) course."
   ]
  },
  {
   "cell_type": "markdown",
   "metadata": {
    "colab_type": "text",
    "id": "e1_Y75QXJS6h"
   },
   "source": [
    "### Import TensorFlow and other libraries"
   ]
  },
  {
   "source": [
    "from __future__ import absolute_import, division, print_function, unicode_literals"
   ],
   "cell_type": "code",
   "outputs": [],
   "metadata": {},
   "execution_count": 12
  },
  {
   "source": [
    "try:\n",
    "  # %tensorflow_version only exists in Colab.\n",
    "  %tensorflow_version 2.x\n",
    "except Exception:\n",
    "  pass\n",
    ""
   ],
   "cell_type": "code",
   "outputs": [],
   "metadata": {},
   "execution_count": 13
  },
  {
   "source": [
    "import tensorflow as tf"
   ],
   "cell_type": "code",
   "outputs": [],
   "metadata": {},
   "execution_count": 14
  },
  {
   "source": [
    "tf.__version__"
   ],
   "cell_type": "code",
   "outputs": [
    {
     "output_type": "execute_result",
     "data": {
      "text/plain": "'2.0.0'"
     },
     "metadata": {},
     "execution_count": 15
    }
   ],
   "metadata": {},
   "execution_count": 15
  },
  {
   "source": [
    "# To generate GIFs\n",
    "!pip install -q imageio"
   ],
   "cell_type": "code",
   "outputs": [],
   "metadata": {},
   "execution_count": 16
  },
  {
   "source": [
    "import glob\n",
    "import imageio\n",
    "import matplotlib.pyplot as plt\n",
    "import numpy as np\n",
    "import os\n",
    "import PIL\n",
    "from tensorflow.keras import layers\n",
    "import time\n",
    "\n",
    "from IPython import display"
   ],
   "cell_type": "code",
   "outputs": [],
   "metadata": {},
   "execution_count": 17
  },
  {
   "cell_type": "markdown",
   "metadata": {
    "colab_type": "text",
    "id": "iYn4MdZnKCey"
   },
   "source": [
    "### Load and prepare the dataset\n",
    "\n",
    "You will use the MNIST dataset to train the generator and the discriminator. The generator will generate handwritten digits resembling the MNIST data."
   ]
  },
  {
   "source": [
    "(train_images, train_labels), (_, _) = tf.keras.datasets.mnist.load_data()"
   ],
   "cell_type": "code",
   "outputs": [],
   "metadata": {},
   "execution_count": 18
  },
  {
   "source": [
    "train_images = train_images.reshape(train_images.shape[0], 28, 28, 1).astype('float32')\n",
    "train_images = (train_images - 127.5) / 127.5 # Normalize the images to [-1, 1]"
   ],
   "cell_type": "code",
   "outputs": [],
   "metadata": {},
   "execution_count": 19
  },
  {
   "source": [
    "BUFFER_SIZE = 60000\n",
    "BATCH_SIZE = 256"
   ],
   "cell_type": "code",
   "outputs": [],
   "metadata": {},
   "execution_count": 20
  },
  {
   "source": [
    "# Batch and shuffle the data\n",
    "train_dataset = tf.data.Dataset.from_tensor_slices(train_images).shuffle(BUFFER_SIZE).batch(BATCH_SIZE)"
   ],
   "cell_type": "code",
   "outputs": [],
   "metadata": {},
   "execution_count": 21
  },
  {
   "cell_type": "markdown",
   "metadata": {
    "colab_type": "text",
    "id": "THY-sZMiQ4UV"
   },
   "source": [
    "## Create the models\n",
    "\n",
    "Both the generator and discriminator are defined using the [Keras Sequential API](https://www.tensorflow.org/guide/keras#sequential_model)."
   ]
  },
  {
   "cell_type": "markdown",
   "metadata": {
    "colab_type": "text",
    "id": "-tEyxE-GMC48"
   },
   "source": [
    "### The Generator\n",
    "\n",
    "The generator uses `tf.keras.layers.Conv2DTranspose` (upsampling) layers to produce an image from a seed (random noise). Start with a `Dense` layer that takes this seed as input, then upsample several times until you reach the desired image size of 28x28x1. Notice the `tf.keras.layers.LeakyReLU` activation for each layer, except the output layer which uses tanh."
   ]
  },
  {
   "source": [
    "def make_generator_model():\n",
    "    model = tf.keras.Sequential()\n",
    "    model.add(layers.Dense(7*7*256, use_bias=False, input_shape=(100,)))\n",
    "    model.add(layers.BatchNormalization())\n",
    "    model.add(layers.LeakyReLU())\n",
    "\n",
    "    model.add(layers.Reshape((7, 7, 256)))\n",
    "    assert model.output_shape == (None, 7, 7, 256) # Note: None is the batch size\n",
    "\n",
    "    model.add(layers.Conv2DTranspose(128, (5, 5), strides=(1, 1), padding='same', use_bias=False))\n",
    "    assert model.output_shape == (None, 7, 7, 128)\n",
    "    model.add(layers.BatchNormalization())\n",
    "    model.add(layers.LeakyReLU())\n",
    "\n",
    "    model.add(layers.Conv2DTranspose(64, (5, 5), strides=(2, 2), padding='same', use_bias=False))\n",
    "    assert model.output_shape == (None, 14, 14, 64)\n",
    "    model.add(layers.BatchNormalization())\n",
    "    model.add(layers.LeakyReLU())\n",
    "\n",
    "    model.add(layers.Conv2DTranspose(1, (5, 5), strides=(2, 2), padding='same', use_bias=False, activation='tanh'))\n",
    "    assert model.output_shape == (None, 28, 28, 1)\n",
    "\n",
    "    return model"
   ],
   "cell_type": "code",
   "outputs": [],
   "metadata": {},
   "execution_count": 22
  },
  {
   "cell_type": "markdown",
   "metadata": {
    "colab_type": "text",
    "id": "GyWgG09LCSJl"
   },
   "source": [
    "Use the (as yet untrained) generator to create an image."
   ]
  },
  {
   "source": [
    "generator = make_generator_model()\n",
    "\n",
    "noise = tf.random.normal([1, 100])\n",
    "generated_image = generator(noise, training=False)\n",
    "\n",
    "plt.imshow(generated_image[0, :, :, 0], cmap='gray')"
   ],
   "cell_type": "code",
   "outputs": [
    {
     "output_type": "execute_result",
     "data": {
      "text/plain": "<matplotlib.image.AxesImage at 0x7fb4bc4ac2d0>"
     },
     "metadata": {},
     "execution_count": 23
    },
    {
     "output_type": "display_data",
     "data": {
      "text/plain": "<Figure size 432x288 with 1 Axes>",
      "image/svg+xml": "<?xml version=\"1.0\" encoding=\"utf-8\" standalone=\"no\"?>\n<!DOCTYPE svg PUBLIC \"-//W3C//DTD SVG 1.1//EN\"\n  \"http://www.w3.org/Graphics/SVG/1.1/DTD/svg11.dtd\">\n<!-- Created with matplotlib (https://matplotlib.org/) -->\n<svg height=\"248.518125pt\" version=\"1.1\" viewBox=\"0 0 251.565 248.518125\" width=\"251.565pt\" xmlns=\"http://www.w3.org/2000/svg\" xmlns:xlink=\"http://www.w3.org/1999/xlink\">\n <defs>\n  <style type=\"text/css\">\n*{stroke-linecap:butt;stroke-linejoin:round;}\n  </style>\n </defs>\n <g id=\"figure_1\">\n  <g id=\"patch_1\">\n   <path d=\"M 0 248.518125 \nL 251.565 248.518125 \nL 251.565 0 \nL 0 0 \nz\n\" style=\"fill:none;\"/>\n  </g>\n  <g id=\"axes_1\">\n   <g id=\"patch_2\">\n    <path d=\"M 26.925 224.64 \nL 244.365 224.64 \nL 244.365 7.2 \nL 26.925 7.2 \nz\n\" style=\"fill:#ffffff;\"/>\n   </g>\n   <g clip-path=\"url(#paeed797854)\">\n    <image height=\"218\" id=\"image02e87bcaa4\" transform=\"scale(1 -1)translate(0 -218)\" width=\"218\" x=\"26.925\" xlink:href=\"data:image/png;base64,\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\" y=\"-6.64\"/>\n   </g>\n   <g id=\"matplotlib.axis_1\">\n    <g id=\"xtick_1\">\n     <g id=\"line2d_1\">\n      <defs>\n       <path d=\"M 0 0 \nL 0 3.5 \n\" id=\"m432c2904d2\" style=\"stroke:#000000;stroke-width:0.8;\"/>\n      </defs>\n      <g>\n       <use style=\"stroke:#000000;stroke-width:0.8;\" x=\"30.807857\" xlink:href=\"#m432c2904d2\" y=\"224.64\"/>\n      </g>\n     </g>\n     <g id=\"text_1\">\n      <!-- 0 -->\n      <defs>\n       <path d=\"M 31.78125 66.40625 \nQ 24.171875 66.40625 20.328125 58.90625 \nQ 16.5 51.421875 16.5 36.375 \nQ 16.5 21.390625 20.328125 13.890625 \nQ 24.171875 6.390625 31.78125 6.390625 \nQ 39.453125 6.390625 43.28125 13.890625 \nQ 47.125 21.390625 47.125 36.375 \nQ 47.125 51.421875 43.28125 58.90625 \nQ 39.453125 66.40625 31.78125 66.40625 \nz\nM 31.78125 74.21875 \nQ 44.046875 74.21875 50.515625 64.515625 \nQ 56.984375 54.828125 56.984375 36.375 \nQ 56.984375 17.96875 50.515625 8.265625 \nQ 44.046875 -1.421875 31.78125 -1.421875 \nQ 19.53125 -1.421875 13.0625 8.265625 \nQ 6.59375 17.96875 6.59375 36.375 \nQ 6.59375 54.828125 13.0625 64.515625 \nQ 19.53125 74.21875 31.78125 74.21875 \nz\n\" id=\"DejaVuSans-48\"/>\n      </defs>\n      <g transform=\"translate(27.626607 239.238437)scale(0.1 -0.1)\">\n       <use xlink:href=\"#DejaVuSans-48\"/>\n      </g>\n     </g>\n    </g>\n    <g id=\"xtick_2\">\n     <g id=\"line2d_2\">\n      <g>\n       <use style=\"stroke:#000000;stroke-width:0.8;\" x=\"69.636429\" xlink:href=\"#m432c2904d2\" y=\"224.64\"/>\n      </g>\n     </g>\n     <g id=\"text_2\">\n      <!-- 5 -->\n      <defs>\n       <path d=\"M 10.796875 72.90625 \nL 49.515625 72.90625 \nL 49.515625 64.59375 \nL 19.828125 64.59375 \nL 19.828125 46.734375 \nQ 21.96875 47.46875 24.109375 47.828125 \nQ 26.265625 48.1875 28.421875 48.1875 \nQ 40.625 48.1875 47.75 41.5 \nQ 54.890625 34.8125 54.890625 23.390625 \nQ 54.890625 11.625 47.5625 5.09375 \nQ 40.234375 -1.421875 26.90625 -1.421875 \nQ 22.3125 -1.421875 17.546875 -0.640625 \nQ 12.796875 0.140625 7.71875 1.703125 \nL 7.71875 11.625 \nQ 12.109375 9.234375 16.796875 8.0625 \nQ 21.484375 6.890625 26.703125 6.890625 \nQ 35.15625 6.890625 40.078125 11.328125 \nQ 45.015625 15.765625 45.015625 23.390625 \nQ 45.015625 31 40.078125 35.4375 \nQ 35.15625 39.890625 26.703125 39.890625 \nQ 22.75 39.890625 18.8125 39.015625 \nQ 14.890625 38.140625 10.796875 36.28125 \nz\n\" id=\"DejaVuSans-53\"/>\n      </defs>\n      <g transform=\"translate(66.455179 239.238437)scale(0.1 -0.1)\">\n       <use xlink:href=\"#DejaVuSans-53\"/>\n      </g>\n     </g>\n    </g>\n    <g id=\"xtick_3\">\n     <g id=\"line2d_3\">\n      <g>\n       <use style=\"stroke:#000000;stroke-width:0.8;\" x=\"108.465\" xlink:href=\"#m432c2904d2\" y=\"224.64\"/>\n      </g>\n     </g>\n     <g id=\"text_3\">\n      <!-- 10 -->\n      <defs>\n       <path d=\"M 12.40625 8.296875 \nL 28.515625 8.296875 \nL 28.515625 63.921875 \nL 10.984375 60.40625 \nL 10.984375 69.390625 \nL 28.421875 72.90625 \nL 38.28125 72.90625 \nL 38.28125 8.296875 \nL 54.390625 8.296875 \nL 54.390625 0 \nL 12.40625 0 \nz\n\" id=\"DejaVuSans-49\"/>\n      </defs>\n      <g transform=\"translate(102.1025 239.238437)scale(0.1 -0.1)\">\n       <use xlink:href=\"#DejaVuSans-49\"/>\n       <use x=\"63.623047\" xlink:href=\"#DejaVuSans-48\"/>\n      </g>\n     </g>\n    </g>\n    <g id=\"xtick_4\">\n     <g id=\"line2d_4\">\n      <g>\n       <use style=\"stroke:#000000;stroke-width:0.8;\" x=\"147.293571\" xlink:href=\"#m432c2904d2\" y=\"224.64\"/>\n      </g>\n     </g>\n     <g id=\"text_4\">\n      <!-- 15 -->\n      <g transform=\"translate(140.931071 239.238437)scale(0.1 -0.1)\">\n       <use xlink:href=\"#DejaVuSans-49\"/>\n       <use x=\"63.623047\" xlink:href=\"#DejaVuSans-53\"/>\n      </g>\n     </g>\n    </g>\n    <g id=\"xtick_5\">\n     <g id=\"line2d_5\">\n      <g>\n       <use style=\"stroke:#000000;stroke-width:0.8;\" x=\"186.122143\" xlink:href=\"#m432c2904d2\" y=\"224.64\"/>\n      </g>\n     </g>\n     <g id=\"text_5\">\n      <!-- 20 -->\n      <defs>\n       <path d=\"M 19.1875 8.296875 \nL 53.609375 8.296875 \nL 53.609375 0 \nL 7.328125 0 \nL 7.328125 8.296875 \nQ 12.9375 14.109375 22.625 23.890625 \nQ 32.328125 33.6875 34.8125 36.53125 \nQ 39.546875 41.84375 41.421875 45.53125 \nQ 43.3125 49.21875 43.3125 52.78125 \nQ 43.3125 58.59375 39.234375 62.25 \nQ 35.15625 65.921875 28.609375 65.921875 \nQ 23.96875 65.921875 18.8125 64.3125 \nQ 13.671875 62.703125 7.8125 59.421875 \nL 7.8125 69.390625 \nQ 13.765625 71.78125 18.9375 73 \nQ 24.125 74.21875 28.421875 74.21875 \nQ 39.75 74.21875 46.484375 68.546875 \nQ 53.21875 62.890625 53.21875 53.421875 \nQ 53.21875 48.921875 51.53125 44.890625 \nQ 49.859375 40.875 45.40625 35.40625 \nQ 44.1875 33.984375 37.640625 27.21875 \nQ 31.109375 20.453125 19.1875 8.296875 \nz\n\" id=\"DejaVuSans-50\"/>\n      </defs>\n      <g transform=\"translate(179.759643 239.238437)scale(0.1 -0.1)\">\n       <use xlink:href=\"#DejaVuSans-50\"/>\n       <use x=\"63.623047\" xlink:href=\"#DejaVuSans-48\"/>\n      </g>\n     </g>\n    </g>\n    <g id=\"xtick_6\">\n     <g id=\"line2d_6\">\n      <g>\n       <use style=\"stroke:#000000;stroke-width:0.8;\" x=\"224.950714\" xlink:href=\"#m432c2904d2\" y=\"224.64\"/>\n      </g>\n     </g>\n     <g id=\"text_6\">\n      <!-- 25 -->\n      <g transform=\"translate(218.588214 239.238437)scale(0.1 -0.1)\">\n       <use xlink:href=\"#DejaVuSans-50\"/>\n       <use x=\"63.623047\" xlink:href=\"#DejaVuSans-53\"/>\n      </g>\n     </g>\n    </g>\n   </g>\n   <g id=\"matplotlib.axis_2\">\n    <g id=\"ytick_1\">\n     <g id=\"line2d_7\">\n      <defs>\n       <path d=\"M 0 0 \nL -3.5 0 \n\" id=\"m1dfef7b373\" style=\"stroke:#000000;stroke-width:0.8;\"/>\n      </defs>\n      <g>\n       <use style=\"stroke:#000000;stroke-width:0.8;\" x=\"26.925\" xlink:href=\"#m1dfef7b373\" y=\"11.082857\"/>\n      </g>\n     </g>\n     <g id=\"text_7\">\n      <!-- 0 -->\n      <g transform=\"translate(13.5625 14.882076)scale(0.1 -0.1)\">\n       <use xlink:href=\"#DejaVuSans-48\"/>\n      </g>\n     </g>\n    </g>\n    <g id=\"ytick_2\">\n     <g id=\"line2d_8\">\n      <g>\n       <use style=\"stroke:#000000;stroke-width:0.8;\" x=\"26.925\" xlink:href=\"#m1dfef7b373\" y=\"49.911429\"/>\n      </g>\n     </g>\n     <g id=\"text_8\">\n      <!-- 5 -->\n      <g transform=\"translate(13.5625 53.710647)scale(0.1 -0.1)\">\n       <use xlink:href=\"#DejaVuSans-53\"/>\n      </g>\n     </g>\n    </g>\n    <g id=\"ytick_3\">\n     <g id=\"line2d_9\">\n      <g>\n       <use style=\"stroke:#000000;stroke-width:0.8;\" x=\"26.925\" xlink:href=\"#m1dfef7b373\" y=\"88.74\"/>\n      </g>\n     </g>\n     <g id=\"text_9\">\n      <!-- 10 -->\n      <g transform=\"translate(7.2 92.539219)scale(0.1 -0.1)\">\n       <use xlink:href=\"#DejaVuSans-49\"/>\n       <use x=\"63.623047\" xlink:href=\"#DejaVuSans-48\"/>\n      </g>\n     </g>\n    </g>\n    <g id=\"ytick_4\">\n     <g id=\"line2d_10\">\n      <g>\n       <use style=\"stroke:#000000;stroke-width:0.8;\" x=\"26.925\" xlink:href=\"#m1dfef7b373\" y=\"127.568571\"/>\n      </g>\n     </g>\n     <g id=\"text_10\">\n      <!-- 15 -->\n      <g transform=\"translate(7.2 131.36779)scale(0.1 -0.1)\">\n       <use xlink:href=\"#DejaVuSans-49\"/>\n       <use x=\"63.623047\" xlink:href=\"#DejaVuSans-53\"/>\n      </g>\n     </g>\n    </g>\n    <g id=\"ytick_5\">\n     <g id=\"line2d_11\">\n      <g>\n       <use style=\"stroke:#000000;stroke-width:0.8;\" x=\"26.925\" xlink:href=\"#m1dfef7b373\" y=\"166.397143\"/>\n      </g>\n     </g>\n     <g id=\"text_11\">\n      <!-- 20 -->\n      <g transform=\"translate(7.2 170.196362)scale(0.1 -0.1)\">\n       <use xlink:href=\"#DejaVuSans-50\"/>\n       <use x=\"63.623047\" xlink:href=\"#DejaVuSans-48\"/>\n      </g>\n     </g>\n    </g>\n    <g id=\"ytick_6\">\n     <g id=\"line2d_12\">\n      <g>\n       <use style=\"stroke:#000000;stroke-width:0.8;\" x=\"26.925\" xlink:href=\"#m1dfef7b373\" y=\"205.225714\"/>\n      </g>\n     </g>\n     <g id=\"text_12\">\n      <!-- 25 -->\n      <g transform=\"translate(7.2 209.024933)scale(0.1 -0.1)\">\n       <use xlink:href=\"#DejaVuSans-50\"/>\n       <use x=\"63.623047\" xlink:href=\"#DejaVuSans-53\"/>\n      </g>\n     </g>\n    </g>\n   </g>\n   <g id=\"patch_3\">\n    <path d=\"M 26.925 224.64 \nL 26.925 7.2 \n\" style=\"fill:none;stroke:#000000;stroke-linecap:square;stroke-linejoin:miter;stroke-width:0.8;\"/>\n   </g>\n   <g id=\"patch_4\">\n    <path d=\"M 244.365 224.64 \nL 244.365 7.2 \n\" style=\"fill:none;stroke:#000000;stroke-linecap:square;stroke-linejoin:miter;stroke-width:0.8;\"/>\n   </g>\n   <g id=\"patch_5\">\n    <path d=\"M 26.925 224.64 \nL 244.365 224.64 \n\" style=\"fill:none;stroke:#000000;stroke-linecap:square;stroke-linejoin:miter;stroke-width:0.8;\"/>\n   </g>\n   <g id=\"patch_6\">\n    <path d=\"M 26.925 7.2 \nL 244.365 7.2 \n\" style=\"fill:none;stroke:#000000;stroke-linecap:square;stroke-linejoin:miter;stroke-width:0.8;\"/>\n   </g>\n  </g>\n </g>\n <defs>\n  <clipPath id=\"paeed797854\">\n   <rect height=\"217.44\" width=\"217.44\" x=\"26.925\" y=\"7.2\"/>\n  </clipPath>\n </defs>\n</svg>\n",
      "image/png": "[encoded data removed]"
     },
     "metadata": {
      "needs_background": "light"
     }
    }
   ],
   "metadata": {},
   "execution_count": 23
  },
  {
   "cell_type": "markdown",
   "metadata": {
    "colab_type": "text",
    "id": "D0IKnaCtg6WE"
   },
   "source": [
    "### The Discriminator\n",
    "\n",
    "The discriminator is a CNN-based image classifier."
   ]
  },
  {
   "source": [
    "def make_discriminator_model():\n",
    "    model = tf.keras.Sequential()\n",
    "    model.add(layers.Conv2D(64, (5, 5), strides=(2, 2), padding='same',\n",
    "                                     input_shape=[28, 28, 1]))\n",
    "    model.add(layers.LeakyReLU())\n",
    "    model.add(layers.Dropout(0.3))\n",
    "\n",
    "    model.add(layers.Conv2D(128, (5, 5), strides=(2, 2), padding='same'))\n",
    "    model.add(layers.LeakyReLU())\n",
    "    model.add(layers.Dropout(0.3))\n",
    "\n",
    "    model.add(layers.Flatten())\n",
    "    model.add(layers.Dense(1))\n",
    "\n",
    "    return model"
   ],
   "cell_type": "code",
   "outputs": [],
   "metadata": {},
   "execution_count": 24
  },
  {
   "cell_type": "markdown",
   "metadata": {
    "colab_type": "text",
    "id": "QhPneagzCaQv"
   },
   "source": [
    "Use the (as yet untrained) discriminator to classify the generated images as real or fake. The model will be trained to output positive values for real images, and negative values for fake images."
   ]
  },
  {
   "source": [
    "discriminator = make_discriminator_model()\n",
    "decision = discriminator(generated_image)\n",
    "print (decision)"
   ],
   "cell_type": "code",
   "outputs": [
    {
     "output_type": "stream",
     "name": "stdout",
     "text": "tf.Tensor([[0.00296663]], shape=(1, 1), dtype=float32)\n"
    }
   ],
   "metadata": {},
   "execution_count": 25
  },
  {
   "cell_type": "markdown",
   "metadata": {
    "colab_type": "text",
    "id": "0FMYgY_mPfTi"
   },
   "source": [
    "## Define the loss and optimizers\n",
    "\n",
    "Define loss functions and optimizers for both models.\n"
   ]
  },
  {
   "source": [
    "# This method returns a helper function to compute cross entropy loss\n",
    "cross_entropy = tf.keras.losses.BinaryCrossentropy(from_logits=True)"
   ],
   "cell_type": "code",
   "outputs": [],
   "metadata": {},
   "execution_count": 26
  },
  {
   "cell_type": "markdown",
   "metadata": {
    "colab_type": "text",
    "id": "PKY_iPSPNWoj"
   },
   "source": [
    "### Discriminator loss\n",
    "\n",
    "This method quantifies how well the discriminator is able to distinguish real images from fakes. It compares the discriminator's predictions on real images to an array of 1s, and the discriminator's predictions on fake (generated) images to an array of 0s."
   ]
  },
  {
   "source": [
    "def discriminator_loss(real_output, fake_output):\n",
    "    real_loss = cross_entropy(tf.ones_like(real_output), real_output)\n",
    "    fake_loss = cross_entropy(tf.zeros_like(fake_output), fake_output)\n",
    "    total_loss = real_loss + fake_loss\n",
    "    return total_loss"
   ],
   "cell_type": "code",
   "outputs": [],
   "metadata": {},
   "execution_count": 27
  },
  {
   "cell_type": "markdown",
   "metadata": {
    "colab_type": "text",
    "id": "Jd-3GCUEiKtv"
   },
   "source": [
    "### Generator loss\n",
    "The generator's loss quantifies how well it was able to trick the discriminator. Intuitively, if the generator is performing well, the discriminator will classify the fake images as real (or 1). Here, we will compare the discriminators decisions on the generated images to an array of 1s."
   ]
  },
  {
   "source": [
    "def generator_loss(fake_output):\n",
    "    return cross_entropy(tf.ones_like(fake_output), fake_output)"
   ],
   "cell_type": "code",
   "outputs": [],
   "metadata": {},
   "execution_count": 28
  },
  {
   "cell_type": "markdown",
   "metadata": {
    "colab_type": "text",
    "id": "MgIc7i0th_Iu"
   },
   "source": [
    "The discriminator and the generator optimizers are different since we will train two networks separately."
   ]
  },
  {
   "source": [
    "generator_optimizer = tf.keras.optimizers.Adam(1e-4)\n",
    "discriminator_optimizer = tf.keras.optimizers.Adam(1e-4)"
   ],
   "cell_type": "code",
   "outputs": [],
   "metadata": {},
   "execution_count": 29
  },
  {
   "cell_type": "markdown",
   "metadata": {
    "colab_type": "text",
    "id": "mWtinsGDPJlV"
   },
   "source": [
    "### Save checkpoints\n",
    "This notebook also demonstrates how to save and restore models, which can be helpful in case a long running training task is interrupted."
   ]
  },
  {
   "source": [
    "checkpoint_dir = './training_checkpoints'\n",
    "checkpoint_prefix = os.path.join(checkpoint_dir, \"ckpt\")\n",
    "checkpoint = tf.train.Checkpoint(generator_optimizer=generator_optimizer,\n",
    "                                 discriminator_optimizer=discriminator_optimizer,\n",
    "                                 generator=generator,\n",
    "                                 discriminator=discriminator)"
   ],
   "cell_type": "code",
   "outputs": [],
   "metadata": {},
   "execution_count": 30
  },
  {
   "cell_type": "markdown",
   "metadata": {
    "colab_type": "text",
    "id": "Rw1fkAczTQYh"
   },
   "source": [
    "## Define the training loop\n",
    "\n"
   ]
  },
  {
   "source": [
    "EPOCHS = 10\n",
    "noise_dim = 100\n",
    "num_examples_to_generate = 16\n",
    "\n",
    "# We will reuse this seed overtime (so it's easier)\n",
    "# to visualize progress in the animated GIF)\n",
    "seed = tf.random.normal([num_examples_to_generate, noise_dim])"
   ],
   "cell_type": "code",
   "outputs": [],
   "metadata": {},
   "execution_count": 31
  },
  {
   "cell_type": "markdown",
   "metadata": {
    "colab_type": "text",
    "id": "jylSonrqSWfi"
   },
   "source": [
    "The training loop begins with generator receiving a random seed as input. That seed is used to produce an image. The discriminator is then used to classify real images (drawn from the training set) and fakes images (produced by the generator). The loss is calculated for each of these models, and the gradients are used to update the generator and discriminator."
   ]
  },
  {
   "source": [
    "# Notice the use of `tf.function`\n",
    "# This annotation causes the function to be \"compiled\".\n",
    "@tf.function\n",
    "def train_step(images):\n",
    "    noise = tf.random.normal([BATCH_SIZE, noise_dim])\n",
    "\n",
    "    with tf.GradientTape() as gen_tape, tf.GradientTape() as disc_tape:\n",
    "      generated_images = generator(noise, training=True)\n",
    "\n",
    "      real_output = discriminator(images, training=True)\n",
    "      fake_output = discriminator(generated_images, training=True)\n",
    "\n",
    "      gen_loss = generator_loss(fake_output)\n",
    "      disc_loss = discriminator_loss(real_output, fake_output)\n",
    "\n",
    "    gradients_of_generator = gen_tape.gradient(gen_loss, generator.trainable_variables)\n",
    "    gradients_of_discriminator = disc_tape.gradient(disc_loss, discriminator.trainable_variables)\n",
    "\n",
    "    generator_optimizer.apply_gradients(zip(gradients_of_generator, generator.trainable_variables))\n",
    "    discriminator_optimizer.apply_gradients(zip(gradients_of_discriminator, discriminator.trainable_variables))"
   ],
   "cell_type": "code",
   "outputs": [],
   "metadata": {},
   "execution_count": 41
  },
  {
   "source": [
    "def train(dataset, epochs):\n",
    "  for epoch in range(epochs):\n",
    "    start = time.time()\n",
    "\n",
    "    for image_batch in dataset:\n",
    "      train_step(image_batch)\n",
    "\n",
    "    # Produce images for the GIF as we go\n",
    "    display.clear_output(wait=True)\n",
    "    generate_and_save_images(generator,\n",
    "                             epoch + 1,\n",
    "                             seed)\n",
    "\n",
    "    # Save the model every 15 epochs\n",
    "    if (epoch + 1) % 15 == 0:\n",
    "      checkpoint.save(file_prefix = checkpoint_prefix)\n",
    "\n",
    "    print ('Time for epoch {} is {} sec'.format(epoch + 1, time.time()-start))\n",
    "\n",
    "  # Generate after the final epoch\n",
    "  display.clear_output(wait=True)\n",
    "  generate_and_save_images(generator,\n",
    "                           epochs,\n",
    "                           seed)"
   ],
   "cell_type": "code",
   "outputs": [],
   "metadata": {},
   "execution_count": 33
  },
  {
   "cell_type": "markdown",
   "metadata": {
    "colab_type": "text",
    "id": "2aFF7Hk3XdeW"
   },
   "source": [
    "**Generate and save images**\n",
    "\n"
   ]
  },
  {
   "source": [
    "def generate_and_save_images(model, epoch, test_input):\n",
    "  # Notice `training` is set to False.\n",
    "  # This is so all layers run in inference mode (batchnorm).\n",
    "  predictions = model(test_input, training=False)\n",
    "\n",
    "  fig = plt.figure(figsize=(4,4))\n",
    "\n",
    "  for i in range(predictions.shape[0]):\n",
    "      plt.subplot(4, 4, i+1)\n",
    "      plt.imshow(predictions[i, :, :, 0] * 127.5 + 127.5, cmap='gray')\n",
    "      plt.axis('off')\n",
    "\n",
    "  plt.savefig('image_at_epoch_{:04d}.png'.format(epoch))\n",
    "  plt.show()"
   ],
   "cell_type": "code",
   "outputs": [],
   "metadata": {},
   "execution_count": 34
  },
  {
   "cell_type": "markdown",
   "metadata": {
    "colab_type": "text",
    "id": "dZrd4CdjR-Fp"
   },
   "source": [
    "## Train the model\n",
    "Call the `train()` method defined above to train the generator and discriminator simultaneously. Note, training GANs can be tricky. It's important that the generator and discriminator do not overpower each other (e.g., that they train at a similar rate).\n",
    "\n",
    "At the beginning of the training, the generated images look like random noise. As training progresses, the generated digits will look increasingly real. After about 50 epochs, they resemble MNIST digits. This may take about one minute / epoch with the default settings on Colab."
   ]
  },
  {
   "source": [
    "train(train_dataset, EPOCHS)"
   ],
   "cell_type": "code",
   "outputs": [
    {
     "output_type": "display_data",
     "data": {
      "text/plain": "<Figure size 288x288 with 16 Axes>",
      "image/svg+xml": "<?xml version=\"1.0\" encoding=\"utf-8\" standalone=\"no\"?>\n<!DOCTYPE svg PUBLIC \"-//W3C//DTD SVG 1.1//EN\"\n  \"http://www.w3.org/Graphics/SVG/1.1/DTD/svg11.dtd\">\n<!-- Created with matplotlib (https://matplotlib.org/) -->\n<svg height=\"231.84pt\" version=\"1.1\" viewBox=\"0 0 236.347826 231.84\" width=\"236.347826pt\" xmlns=\"http://www.w3.org/2000/svg\" xmlns:xlink=\"http://www.w3.org/1999/xlink\">\n <defs>\n  <style type=\"text/css\">\n*{stroke-linecap:butt;stroke-linejoin:round;}\n  </style>\n </defs>\n <g id=\"figure_1\">\n  <g id=\"patch_1\">\n   <path d=\"M 0 231.84 \nL 236.347826 231.84 \nL 236.347826 0 \nL 0 0 \nz\n\" style=\"fill:none;\"/>\n  </g>\n  <g id=\"axes_1\">\n   <g clip-path=\"url(#p1aa56178a0)\">\n    <image height=\"48\" id=\"image2f5ab14558\" transform=\"scale(1 -1)translate(0 -48)\" width=\"48\" x=\"7.2\" xlink:href=\"data:image/png;base64,\niVBORw0KGgoAAAANSUhEUgAAADAAAAAwCAYAAABXAvmHAAAABHNCSVQICAgIfAhkiAAAA0JJREFUaIHtmb1KM0EUhp+ZrNn1N4WYOxACXoXXIHYRbKzEC7C1EBsbESy0ESy8BCvFRrAUxNbGHxQjiFmM2Z/zFflmTfzWfJtkNaz6wpKfnT1nZt5zZt4zqwDhi6G1BiAMw95t9Wyhz7D64VQplZ4t+hBCkfO/AxHpvguZD6G+MpAGMs9AX5I4DZj8+WWgGYODg0Bjg3p9fU3TdAu01gwNDQEpD+Dl5QWAWq2GbdsABEHQcGSl50przfDwcON7alb7hE9J4mq1GjGQy+WAxma1vLwMwNraWk/2fd/n+fkZ+AYMfNpGNjU1BcD5+fk/9+bn5wHY3d3t2c+X7cRxemdsbAwgCodukPkQggYDn35ZliUf4fT0tGu7mWfgS9VorVYDiJbYZqysrACwuroKQL1eT1QnZJ4B+KIcaL6CIJAgCCQMQwnDUBYWFrrPrc+alXaoVqsAbGxsALC9vR3bLknJmfkQSoWBw8NDAK6vrwGYm5uLbZfP5wFYX18HYG9vr63dH5HEqSyj72dKRCLFeXBwAMDOzg6Tk5Mt7ZaWlgDY3NxM5CcuJ1IZgKm+TIg0wxQ5vu8zOjracu/x8RGA8fHxjn1+m5oYUlzfu8XMzExHfpRS4jiOOI7zq4VaYE4lXNft6ABXRBgYGADeDgHaQSkV6anvyUCvLyAmJia4v7/v6Bkz82Zp3d/f5+npCXg7kjH9CcMwYgwSJI3jOF0ndqVSkUqlImEYJkpo13XFdV1ZXFyUYrEoxWJRLMsSy7JEay1aa1FKiW3bYtt29pMY/rNcKaVkenpaSqWSlEql6L92z8Vdx8fHiRjwPE88z5PLy0spl8tSLpelUChIoVBo8W3YyDwDiZfRkZER4C3ZjERIinw+H6lVIx2aNY3neQDc3t5Gv2dnZwE4Ozv70G5iOW2KkG4PaT3P4+rqCiDSRDc3N5HNra0tAC4uLgA4OTnh4eHhv3Z/TgilAXMkbgqeo6MjAO7u7qLTOcOw7/uJduVfBjqBYcDA1BFaa+r1evQdGgkuP6GktNJ4W94OZka11lFMm892WkspFSnauHbmnsrlcgKNAZiGnQ7qvXQWkajjcbLa+ImzH3UsZgDN7c2bn8yH0B9S65wvShlvfQAAAABJRU5ErkJggg==\" y=\"-6.469565\"/>\n   </g>\n  </g>\n  <g id=\"axes_2\">\n   <g clip-path=\"url(#p11ba83a9fb)\">\n    <image height=\"48\" id=\"image5365a0a528\" transform=\"scale(1 -1)translate(0 -48)\" width=\"48\" x=\"65.426087\" xlink:href=\"data:image/png;base64,\niVBORw0KGgoAAAANSUhEUgAAADAAAAAwCAYAAABXAvmHAAAABHNCSVQICAgIfAhkiAAAA4VJREFUaIHtmD9LI0EYxn+zuxpBkyhWipIVGwtBEEQF8TOo+wG0srAQLP0QgpBS/AaxEsRGLESwEjsF0UIIWPgnGmPUxJ0r9maMd9nkcllzt3d5YMhudnbemXne953nXQFIQgghBADGH55H3RCElAGF0DMQ+gVYQQxiGN4+SCk//TYCTQYA2tvbAZiengZgZ2enYSyEngHw0mggLZfLyVwuJ09PTwMbs1oLxIUURkZGADg4OOD19RWAzc1NAJaWloI0pdF0oXJtYWFBVkI+n5f5fF46jiMdx6nLVpOBas22bWnbtkyn09J1Xem6rmYim83KbDYrDcOox0ZjsgUgU6mUTKVSegFqQclk8v91oYbKaVWEnJ+fAzA4OAhAsViktbUV4JdP8GZBUw9aWloAeHx8BKCtrY2joyMApqamAHh/f684hmKsyUA5GIbBysoKAGtraxX7Aezu7hKLxQDY398HYHV1taINFQNfsgDTNCkWiwBsbGwAsLi46Ns/Go0SjUYBODw8BGBsbIybm5uqtpou5Icf06GUEtM0yz4TQmglu729DUA8HtduVQmhZyDQeqAUKi1OTEwA3i67rgt8lKDPz8+6/93dHQCdnZ0AvLy8YFne9FQ8lcOXLWBychJAB2J3d7d+pvK/mqCUkqurKwCSySQAmUym6lkA/4ALNewkdl1X524FpYmGh4cpFArAR4BblqUZqKSPQs8A1KHvhRBSCPFLfWOxmG+Juby8XF7rG0bVYif0DPx2FhJC8Pb2Bnxomo6ODgDy+fxP/WdnZ33HymazvjbK3Usp9fVvL0BKSSKRACCdTgPw9PQEQH9/P7e3twD6+9DAwIDvWHt7e2X/90ujpmnqFBx6FwokjW5tbQEwNzdX03tqh7u6unzdqBS6jDQM4vG4d12Txb8QgR5kyt9VuecHpYmUzBgaGuL+/r4mWyoGAtVC4+PjABwfH/+UQUqhTtb19fVP97VACbzQu1CgDJycnABekKnU2tvbC0ChUNAudn19DXiSGSCRSPDw8ADUzkaTAT/09fUBH6fzzMyMPujm5+cBODs7A8BxHJ1SLy4uAI+x/0KNiu9qT6e2r4JlWTq92rYNwOjoKODttoqLy8tLAHK5nNZUKlZKmdDfhSKRiATvVFSUqYdqUUII/XKpoKoFpWk1Eol8+u3p6dGTzGQyetKl9tUc1byUgAy9C30DvMKHFbqS/asAAAAASUVORK5CYII=\" y=\"-6.469565\"/>\n   </g>\n  </g>\n  <g id=\"axes_3\">\n   <g clip-path=\"url(#pb670116cba)\">\n    <image height=\"48\" id=\"image8d5e7bea5a\" transform=\"scale(1 -1)translate(0 -48)\" width=\"48\" x=\"123.652174\" xlink:href=\"data:image/png;base64,\niVBORw0KGgoAAAANSUhEUgAAADAAAAAwCAYAAABXAvmHAAAABHNCSVQICAgIfAhkiAAAA3tJREFUaIHtmLsvNGEUxn+zl2GXZeMa2o24BFEoNAqJBBUJSgWFxv+g1NEJ/gudWkIhQiRUKkGEiesuxmXNfMV+Z2b4ZtfH7mazzNO+877nPe9zLs8ZBTApYvgKfYFs4TlQaHgOFBqeA4WG50ChkTcHVFVFVdV8HW/BYyAdNE1D0zR0XUfXdYaGhvJip+gZUMiTGu3s7ARgb28PgHg8TldXFwBHR0c5s5M3BxRFAeD19RUAv9/PxsYGAL29vTmz44VQ2oP/MnB3dwdAJBIhkUgA0NLSAsDZ2VnWdoqegUC+Dq6trU0ZCNgmpLHNzMwAMDs7C8Db29u37XgMpENpaSkAx8fHAESjUba3twFob2/P+nzJsbwlcVlZGQDz8/MAjI+PW33g5uYGgMfHRwAMw/jy+T5fKni8EHLColVRrCQOhUIALC8vE4lEAHh6egLsUNI0jfPzcwB0XQfANDMHhqz/XgZUVaWjowOAw8NDACorKwG4vb2lpqYGsOO9v7+f9fV1ABoaGgAYGBgAYGpqyiq3opNGRkY4OTkB3MusMPBtB4LBIN3d3QBcXFy8u+zDwwO7u7uALeYMw7CS1e/3A3BwcABAdXU1w8PDADQ3NwMwNzfH9PQ0APf392nv8XtDKBQK0dPTA8Dl5SUAm5ubQIoBeW23EikhIcy9vLwQjUYBm52xsTGen58BmJycTHuPomfg243M5/PR2NgIQFtbGwBbW1uArUA/gzMXRKE6cXV1BUB9fT3gnsxFz8C3c8A0Taud7+/vA7b++V8GpPE1NTW5rsuLZ2pqWTkgQk0uUl5eDqTCS8LDSbsktNT8wcFB63s3LC0tvdvnhNj8vSHkhFAsA3w4HKavrw+A0dFRAJLJJGtrawC0trYC9kAjr/kRwmgmFD0DOZ0H5CXr6uqsXycrKytAigGJZYl5UaxuDBiGQSwWAzL/R8qpnJZQisfjVvKurq4CEIvF2NnZAbB0jyRzVVXVP2csLi5aRSITvBBKh5KSEsDuDYFAgOvra8B+cZHVExMTlhSXMXNhYYHT09P0F/8pZTRvDAgkYU3TtMfAD40rHA5TUVEBpJQsQCKRsL5368Q/ZqhXFEUx4fMh2g3pJIDztT8xDrz/eyfVyzAMa93trGAwmNorlzAM40tGFUWx9I7sk7VkMpnR+Me677Tt1D0f9zr3/Zgk/gNIMl4j+3zdqQAAAABJRU5ErkJggg==\" y=\"-6.469565\"/>\n   </g>\n  </g>\n  <g id=\"axes_4\">\n   <g clip-path=\"url(#p3558c6f2c7)\">\n    <image height=\"48\" id=\"image44d3a72f70\" transform=\"scale(1 -1)translate(0 -48)\" width=\"48\" x=\"181.878261\" xlink:href=\"data:image/png;base64,\niVBORw0KGgoAAAANSUhEUgAAADAAAAAwCAYAAABXAvmHAAAABHNCSVQICAgIfAhkiAAABAxJREFUaIHtmTtLa00YhZ/J3sYgoqCiNtFC0UasRBQsBAlY2PgDREFFFPwBilgI/gQRNIiNKFhahwg24gVE8AKCgUQEc7MImhs6p4izk5iYL+dL9Jx4XLAJyd6zZiZrve+8M1sAkhKG6U8PoFCU/AT0YpAIIdK+S/l1rix5BQRFCOLV1VUAxsfHAQgGg6ytrQGwuLhYKH1O/CgAyRgYHBwEYHt7m6qqKgBWVlYAmJ2dLbSbrCh5BSChQFGv+vp66fP5pM/nk263W7rdbjk3N1f0fgBZFAvlQnt7OwDLy8scHh4CMD09DcDw8DAA5+fn/5v/x0L5Xh0dHXJnZ0fu7OzIbIhGozIajUqTySRNJlPevCWvwKfHQDZYLBYAwuFwxr3j42MAuru7c3Ko1P1HJvAeqbXT6+srAJqm5Wyj7pe8hf6KCQghsNvt2O12pJRIKdnf38+r7V8xgUJQlP2AwuPjY4JU141A7enpAeD09DRn28nJSQAGBgYAODo6wmw2AxCLxTKeV3FT8gpAERcrTdOkpmny5uYmY6FqbW39LS6LxSKFEFII8fW1kK7r+P1+AKqrq43f6+rqAAgEAkXrq+Qt9OkL2cTEBADr6+vGbyoAp6amMu6lDe5ttc11SFDyCkC+G4e3gAqFQjIUCqUFaD7BNjIyIgOBgAwEAlmrUY/HIz0ej7RardJqtUohhDSbzdJsNhc3iDs7OwE4OzszJPZ4PAA0NTXlxTE0NATA3t5e8l98s4kK8ObmZiKRCJCsj7Lh37HQ++vi4iLDBvF4XMbj8bw5bDabtNlsWS21tbVl2CkXx7+rgBBChsNhGQ6HM/49v9+fV2Cr6+npKasKDodDOhyO761AQQuZKg28Xm+C7N0pNcDDwwMAjY2NH/L4fD5qa2vTOKSURtuWlhYAnp+fM9oWVE6resdkSgjpdrsBsFqtxjMNDQ3GgJxOJwBXV1cALCwsAOB0Ounv7wegpqYGSKROl8sFQHl5OUBaWlV9/tsW+gh9fX0cHBz853PRaBRIbIQqKioAuL+/ByAUChkKjI6OAskF7eXlxVDlR4GP0NXVBSTPeXIhEomwsbEBwPz8PJAIWBXQaktpnAUJYShQ1D1xKk5OToBkBrm+vjYCT53pKEtEIhHu7u6AhHVS76UitayOx+PAN7DQpymgcHt7C4DZbDYssLS0BMDY2BgAl5eX7O7u5s0ppfxGafStXvnSd7sqZba1tQEwMzPD5uYmkDw/Uin2I+h6wjylr4CmaRISi8PvQvlQvZFUx+WxWCwvRdXpXW9vr1H3qLoqGAwaHO+5hBCUlZUBoKuUJoTImES2QaTmYjWAysrKtE+v12ukuVwcqj+Xy5XM62/W0HXdaKtSaiqX4ih5C/0CA64L7frprKAAAAAASUVORK5CYII=\" y=\"-6.469565\"/>\n   </g>\n  </g>\n  <g id=\"axes_5\">\n   <g clip-path=\"url(#p83fa251a1d)\">\n    <image height=\"48\" id=\"imagecaa19889a5\" transform=\"scale(1 -1)translate(0 -48)\" width=\"48\" x=\"7.2\" xlink:href=\"data:image/png;base64,\niVBORw0KGgoAAAANSUhEUgAAADAAAAAwCAYAAABXAvmHAAAABHNCSVQICAgIfAhkiAAAAwxJREFUaIHtmMFK+0AQxn+bTQQlUhFBQbwpimc96NHq03j0QXwC8eQL9OBFweLFk+DBm0dBLYKIptbGJPs/xNn2r7FqaivBflAayO7Mzn7fzsxGAYYCQikFgPPL6+gaioIyICg8A4MAuoFSyh7GvCg8A4ND/NsYBPDbKHwAbt6JnudxdnYGwMLCAgCOk+6HMQZj0twQRREAjUaDyclJAJrNZv4Vv0HhGegqja6urgKwv78PwMjICAAPDw+Mj4+nDl4LVRRFHB8fA7CxsQFAkiR5XVv8SB0YHR0FWgGEYUipVAJgb28PSIOVBR8dHQGwvr7ereviSwhSBnr2cxzHOI5jrq6uzFvUajVTq9W6s9/LnekXesqA/HZ3d98xIJienv67DPS1G5VCd39/D4DrpnV0fn6ey8vLXDZzV+I8kDS6srICwOLiIgAzMzO5AxhI6CNIUXt6evpwzNDQkB0rsvouCs/AjwbgeR6e57Gzs0MQBARBQBRFRFHE4+Mj1WqVarWK7/v4vm/fCVvQuujLgf8MPZOQSGd4eBhIW+w4joG02YP08ELa6IVhCGS35J1QeAlBjypvuVw25XLZJElikiTJrMCVSsVUKhWztLRktNZGa23nK6U62ldKGaXUoBJ/ipeXF6BVdbMQhiHLy8sAnJ+fA6C1tmcm6+Lztz6vK6W+lBGyILeug4ODjuNOT08BWFtbA6Ber1ufWQxItvpSL5R38QCHh4cA3NzcMDU1lTkmjmO2t7eBluQ6+WyvE39DQj8B3/e5vr62z+1oNpuMjY3ZZ0gZ0FoD2RKSPqrwDPTtPhAEAXNzcwD2+9DExAQAW1tb/+28QNJoFuSLX18vNCKdi4sLADY3NwE4OTn5dqKQ4Aovob4dYqUUnucB2KorTNzd3VlJfMceDBj4OlzXZXZ2FoDn52cAbm9v7ft6vZ7LbuEZcEVL3bQLWRC70oWWSiW786J3ORNxHNvWQOZprW0Bk4zTvkY7/vUSgTHGTug2KKXUu/bZdV3rVAKQf8dx3vnKaiDbmzuxX3gJ/QM6QPk0J/AOFgAAAABJRU5ErkJggg==\" y=\"-63.193043\"/>\n   </g>\n  </g>\n  <g id=\"axes_6\">\n   <g clip-path=\"url(#p1eec338d62)\">\n    <image height=\"48\" id=\"image8cd76beecb\" transform=\"scale(1 -1)translate(0 -48)\" width=\"48\" x=\"65.426087\" xlink:href=\"data:image/png;base64,\niVBORw0KGgoAAAANSUhEUgAAADAAAAAwCAYAAABXAvmHAAAABHNCSVQICAgIfAhkiAAABBtJREFUaIHtmd8re38cxx/HzmZmQ1la42LhjlKupJSyO+WGFTIuFLlXLtzwL7hxhXLlwh2lRPlxp3YhSskFN8tilq0Ztp3392Kf9858MBvWt+PjWafW2uv1er/P8/V7CiAwIBRFAaDsfz7Hl6FgUAYkSsaAw+HA4XCUSn0WhnchtRRKFUVhfHwcgI6ODgAGBwdLYeqXgTchhCCdTgPQ0tICQFVVFdFo9NttGZ4ByKTRkj0Oh0M4HA6xuLgoLBaLsFgs36r/S3VAVkMhClPR3NwMwM7ODgBtbW0A3N/ff/YIxnehTzOgKAqrq6sATExMAJBIJD6UAXh6egLAbDYDEI1GqampAQpnU+LfZQCgvr4e0H17f3+/MKN/mLi9vQXAZDLR19cHwMHBQUE6ysoy7/5LdeD6+hqAkZERAIaHhwGYnJzMKyfdxOl0AhAKhfB6vQDc3d0BcHp6mlfHbzudi8PDQwA6OzsBeHh4YGNjA9BZyQeLxcLs7CwAY2NjAExNTbG1tfWujHQhwzMA31ANfT6f8Pl8Ih9aW1vz6nC73cLtdotIJCIikYgIBALZKv7W7xVFEYqiiF8Gch9VVYWqqmJmZuYVA6lUSphMJmEymfLq8Hq9wuv1irW1NeF0OoXT6SxdL5QPTU1NAJyfnwOZoLu5uQGgoaEBgOfn51dyMj12dXUVlFIN70JFM1BsB2oymYBM/yM/S1lZfTc3N1/JVVRUUF1dDegF8y0YngEoMlBdLpdwuVxidHRU+P1+4ff7C5JbX18XmqYJTdNeBHYqlRLT09PCZrMJm82mp8eyMmG1WoXVav1Id5ET0B8DPT09IhgMimAwKMxmszCbzR/Kejwe4fF4sheRz97enrDb7cJut2czWaHnMbwLfTqNOp1OQqEQAKlUKvsdQCwWe1NG9i9yoJEJIZFIZLvRQCDwQudHMDwDn54HwuEwc3NzAMzPzwNwdXUFQG1t7ZtpVlUz5nZ3dwHo7u4GIJlM4na7ATg+PgYy7EgW8qXsf5cBIQQLCwuAvh7p7e0FMm3E4+MjAPF4HMiMn3JuqKysBPRYiMVinJycALrvp9Ppgorll0ZKuc8ZGBgA9Nk4Ho+zsrICQHt7e/bQVqsV0INXXm55eTnrfnIl+dHhf8xI+a3L3YuLCyCTLhsbGwE9tco3lgvpZpeXlwUFbC5+zEhZkvW6pmkMDQ0BcHR0BLxkQL5lGUPb29tFb+Q0TQNKdAGAs7MzAJaWlgDo7+/P1oFwOAzo/9rIwaUYyAsb3oVKNlJKlykvLwcyg40MvLq6OkBnIh6Pk0wmP6X/l4GCDeUEsVyry6Klqmq2KhcLwzOgSr+UaamUkJlD+nvuguDvQldoK6HKTQHol8i3ecg19J7R94zn+/3fG4vcF/qWvh9Tif8DmQafHjiWJpQAAAAASUVORK5CYII=\" y=\"-63.193043\"/>\n   </g>\n  </g>\n  <g id=\"axes_7\">\n   <g clip-path=\"url(#pfd17692000)\">\n    <image height=\"48\" id=\"imageca423e2175\" transform=\"scale(1 -1)translate(0 -48)\" width=\"48\" x=\"123.652174\" xlink:href=\"data:image/png;base64,\niVBORw0KGgoAAAANSUhEUgAAADAAAAAwCAYAAABXAvmHAAAABHNCSVQICAgIfAhkiAAAA9NJREFUaIHtmT1LK00Ux3+bMYlEI8HXiAoiCBY2QgoLKyvBRrEWbZPOj2Aj2PgFBP0CFraiYOktxErFiIIYNILRBFeNJnHnKdaZJ94kXqMbLqv3D8smOzPnzJz3s2sAEhfD87c38FX8O8DfhusPUPfZhYZhYBgGAJZlObahavFzNSClxOfz2UTqbDIPDw/O7KoKuF4DBg4kMuULQggACoXCV0l+nDc1ysQDAwMAHB0d1YK8hutNqGYHME0T0zSJx+PE43EmJydrwsf1GqiZDyicn58DcHV1xfj4OADX19eO0a+5BgKBAIFAgEgkQiwWIxaLOUJXCIEQwv0m9OlM/CeMjIwA0NzcDNj10q9fvxzn808DxfB6vQAcHx/T29v7ZkwIwenpqZPsgG+gAUcPkM/nyefzbG5uloxls1kymQyZTMYRXlJKpJS1yQOGYehY39LSop8rE3Oi2FO0XG9CNc/Ej4+PgN30bG1tAXBwcADA4eEhAHt7e9q0bm5uALs5krLy1jweW/Y/RwNtbW0AXF5eApBKpeju7gbg5eWl4jrV5OTzeT1PtaDvIZ1Os7i4CKDvbzb+2kR9OA8op1Qm0dHRQTKZBKC9vb3iOrVpj8ejme7u7gIwNDT0ZjPFCIVChMPhinSVef0cE1JQUi+WjjKvVCr1MaavEp+dnQVgZWWl7Lzn52fArmih/Punn6cBJb1CoaBDmcLY2BgAGxsbH6LV2NgI2IEhGAyWjKuE19/fD8DZ2VnJHNdrAGwNVH1Fo1FZCdPT01XRSiaTJTQsy5KmaUrTNGUwGJTBYFDPNwzj/4svZOLh4WEAdnZ2SqXyGuaampoAO/wqJ1S5oaGhAYCTkxNdMymzzOVyOv7Pz8+X0P82tdCXGhrVIk5MTACwvr6ux5Szm6apnymtqDcVnZ2dAPolcTEsy9Jrfw+fQgj6+vqAb6ABR6vRubk5AJaWlr5M6+7ujsHBQQASicSbMY/HQygU0v8/FYXeuxKJRMUI9SdYliUty5LRaFQKIaQQoiwPr9crvV6vdL0J1eS9UE9PD1NTUwAsLy8Ddg21uroKQDQaBaCrqwuwnVg5+NPTEwAXFxc6pJYr11Uodr0GqnZiJZWPfplUkvL7/Vq6o6OjgK0pgIWFBerr6wHY398HYGZmRle+2Wy2hK6qUF2vgbpqJaqSTi6X08+U/ZZrwpX9qk4OYHt7G4DW1lY9JxKJALC2tgbA7e2tToa/d2zF36gNn88nFZH3elu1wO/3A/aB1W9V9qr1xYcrB2VW6h4Oh7VpptNpAO7v7/X8coJRgnS9Cf0HyVgOX8fY6cEAAAAASUVORK5CYII=\" y=\"-63.193043\"/>\n   </g>\n  </g>\n  <g id=\"axes_8\">\n   <g clip-path=\"url(#pb9a53bc493)\">\n    <image height=\"48\" id=\"image07e6ad1d55\" transform=\"scale(1 -1)translate(0 -48)\" width=\"48\" x=\"181.878261\" xlink:href=\"data:image/png;base64,\niVBORw0KGgoAAAANSUhEUgAAADAAAAAwCAYAAABXAvmHAAAABHNCSVQICAgIfAhkiAAAA+BJREFUaIHtmksvc38Qxz+njh5l4X5ZCBJWwkpCIhKxkbBj4RXYSVx2FiIEL0Bi4TUICxKEWIoNicTGioRIqFtKaWirfRbH/Hp6r9bz+Pu331XrzJkzZ74z85sZ1YAgvxB5eXkA2H7Yjoyh/7QB6SIYNANH45eGkCAXQvFgs5m+WV5eBmB3d5fV1dXvf863a/zH+Gs5oGkaAPf39wB4PB7a29sBuLm5AUKJmAlyDCTD4uIiAKOjo1xdXQEoJq6vrzPW/8/KaH5+Pjs7OwD09PSEXfN6vera0dERAAsLC3x8fCTVmwuhdPD+/g6A3W6PKxMMBllfXwdgYGAgrtyvZ+BHeiHDMAC4vb0FoLKyMkpG0zRcLpf6DLHLbkYhpOt62AN8Pl9aenw+n9JlxfPzMwAlJSVA7Bf49SGUEQO1tbUATExMALC2tgbAwcHBl3XFSmy/3w9AQUEBQMyymj0MSJwXFhYC0NXVxczMDADV1dUA1NfXA9Da2srp6SmQer8jXn55eQHMkTEQCABQVFQEwNvbW9R92cNAJHRdp7GxEYDOzk4AVlZWAHh9fY2St9vteL3e5AZ9Mj09PU1LSwsAQ0NDQGw20z4H/H6/MlwGlViGC+x2O+Pj44DZ54DZH0VCjJydnWV4eDiu4YLsDSGAy8vLsO91dXUJ5UdGRgBYWloK+7vNZovpZdn9SPkUxqwHZnYzsLW1BUBfXx8Ad3d3AFRVVSW8Tzwqg7/f74+ZD8rIz8Rubm4GwO128/j4aF7jG9ppp9MJQGlpKZC4TbYaJHU+EAiohk4Mi4WKigrA7I3cbjeQ7SEUCUnE7e1t+vv7k8pLMuq6rublhoYGIE7f8xlyDodDyeUYsEK6Ryl/VhiGoTze0dEBhLpWyQmAh4cHAE5OTujt7Q3Tq4zWNDUj5BiwYmpqCoC5ubmMdblcLsXUxcUFEJoZNE1TZTelF9A07ctrwHTXhlJaPR4Pk5OTAGxsbAChNWUwGFRzdXaEkK7ryqOpbMuskDFzcHAwoZyE397eHmCGy9jYGBA63M7PzwHY3NykpqYGyBYGrJDDRGL1K/dJEkauUPb39+nu7o7SK62JlNm2tjbAXAqrlc5XXyCyxU0Hh4eHABwfHwMwPz8f1ZpbIU6TudkwDMrLy81raVvxH8GPLHeFxaamJgDOzs6iTttE0DRNbSpyDGQCieni4mJ1SFmTWP0zO8Zy9//zU4NEq+tUITrEK8niOXKbbRiG6m3KysoAk4mnpycAtU8Sdqy26ta6noiyVCDyuq7jcDjUZ9Epz5K1uZRip9Op5GUctdlsyhGi17oYExt/fQj9ASf8lWlUZTTXAAAAAElFTkSuQmCC\" y=\"-63.193043\"/>\n   </g>\n  </g>\n  <g id=\"axes_9\">\n   <g clip-path=\"url(#p5257c2a5a2)\">\n    <image height=\"48\" id=\"image5bb18ed82b\" transform=\"scale(1 -1)translate(0 -48)\" width=\"48\" x=\"7.2\" xlink:href=\"data:image/png;base64,\niVBORw0KGgoAAAANSUhEUgAAADAAAAAwCAYAAABXAvmHAAAABHNCSVQICAgIfAhkiAAAA5tJREFUaIHtmb1L62AUxn9Jq434laEOFh3VQRwdRMVFBF2cXPwDRHBwdBCcHZxc3FwEQXSLODqoCILoKEoVwaFii0W0flWbO8STtjTVRBuuvbcPBErfk/fjPOe85yMKYFLGUP/2Bn6KygGKIRKJEIlE/JreRtkzAJYTl/QJh8OmYRimYRhmLBYzY7GYOTAwUPJ1ALPsGQj6MWkikWB5eRmAnp4eAEKhEIFAAID39/eSrVX2DCj4HMiCQYvkzc1N1tbWANjZ2QHg/Pz8x/P7foBcbG1tATA8PFww9vT0ZG1IUQDo6uoiGo1+OWfFhLyguroagJeXF1fypmltraqqCnB2/goDP8HV1RUALS0tn8qNjY0BsLGxUTDmSxxwi9bWVgCGhoaYnp4GYGRkpEAumUwCoKqWwWQyGXusYkKALxFW13WmpqYAWFhYyFtHrlyoMGBhZmYGgPn5eQDu7u5obGwsKl9TUwPA8/Ozp3XEB0zTtCN8hQGA5uZmAM7OzgBLs+Fw+OvFP9KG70DeLWkckEmDwSB9fX0AbG9vF5Xv7+8HYG9v79trlb0JgQ9lntOzvr5uFoOiKJ7nUxTFVBSl/EtKzz4g1xdAQ0MDALe3t57eTafThRvx6NC+OLFXSORWVdXOhRYXF129+884cUkYEG1MTk4CsLS05Oo9KVReX1/tDPPt7Q2Ajo4OO92WMSlwIBuVKwzk4uDgAIDu7m6blf39fQB6e3sL5CVfSiaTjk4sAW5wcBCwmAKLiQoDTmhqagLg5ubmU7n7+3sgewvpuu4o9/DwAFiMApyengL52WhJS8p4PA5YTi2JXVtbW4FcfX29q/mke1FXVwdknT6TydgdjrI3Id+K+vb2diCrPTEbt0in07ZjiynV1tYCkEql7I8n/w8DYn+iFbnSvoJoLxAIfFr0y9jq6ioAx8fHXF5eAnBxcQFkA5miKCQSCes3Lm8hTdMAmJ2dBWBubi4vMrqBHD63ryMbOzw8BGB8fDxv007yqqoSCoWs35528AvhOQ7kdgYEXpkYHR0FYGVlBYCjoyN2d3fz/otGowWaz4WYdNkz4PkazdWKRENxQLdMGIYBZJu2ExMTts1LVNY0ze4bOTFh1xJeD/Db8KNAJrm7hHXRitseqWSbuq5zfX0NQGdnJ2Bp/eTkBIDHx0cgn2G7pPzoCHh2xFyIKYljFfsCI81ZWUsuBE3T7OaYzBWPx0mlUgCOpvTPtBb/APg9zudhDwhmAAAAAElFTkSuQmCC\" y=\"-119.916522\"/>\n   </g>\n  </g>\n  <g id=\"axes_10\">\n   <g clip-path=\"url(#p5025c7936f)\">\n    <image height=\"48\" id=\"image6e49da41a9\" transform=\"scale(1 -1)translate(0 -48)\" width=\"48\" x=\"65.426087\" xlink:href=\"data:image/png;base64,\niVBORw0KGgoAAAANSUhEUgAAADAAAAAwCAYAAABXAvmHAAAABHNCSVQICAgIfAhkiAAAA7xJREFUaIHtmjtLO00Uxn+76y1ETNBCEIwXtFEbS8UbFkEQFPQT+AGsREtrwcZOLC1E01mkEMFGsNBCCwVBQbxABBU2XjCo2Z232P9sLm5iEqO+MT6wsLuTeWZmnzNnzjlEAQTfDEVRABAi96Elh5qXGf0gFH5AgXyi4BX4W8BP428BP42CX0BJXkhKLJrh4WEAgsEghmHkg/pD5PUcODk5AcDn81FaWgpAdXU1APf39/kaBgBN04A/E0rE1dUVAM3Nzaiq9W3C4bDdLr+aaZqfHkvGUQWvwJfFQufn5wA0NDTY797e3gCora0FQNf1T4/z5cHc6OgoAOvr6/Y7Kb/b7QYgEonkzF/wJgSWAl9++f1+YRiGMAxDJGNxcTFn3oJX4NsSGk3TCAaDAAwNDb1rl5u+t7cXgFAolJG7LW4Fck3O+/v7AVhYWACgvr6ew8NDAPb29gCYm5uzD8F0/J9aQFtbGwDX19dA5n69rKws4dnv93N0dATETEgIwfb2NgCXl5cpuYrPhKTZNDU1sbOzA8QOpMnJSQCWl5dT9gPsSFWezE4YGBjg4uICgLOzs5S/Kz4FPB4PYNllVVVVQptMYrxeL8/Pz4ClFMDu7i5erxfAbpNxUjgcdtyoMlGKRqPWZOOchrzPeRNrmmZL6/P5bGKAlZUVTk9PAcsUALq6uqioqEjgmJ+fB2BmZiarsVVVtc2w+EwoHjJB2draAqCvrw+A/f19jo+PARgZGQF4Z24QM7m6ujpubm4+nuw/s9E0zTa/4lYgGe3t7QBMT0/T3d0NQGtr64f9Hh8fbeeQyamuqio1NTXWfa6T/b/gy6LR2dlZAKampgDnPRCPzc1NIBapfqREeXk58A3hdE9PDwCrq6v2OVBZWZny97J+1NHRQSgUApyrGL+mLgROaZqqClVV7We32/3uXbbXxMSE0HVd6LouotGoiEajwjRNYZrmuxRTCCFM0xSBQEAEAgHhcrmEy+VK4FMURSiKUiQppaZptLS0ALHU7+XlJauBPB4PY2NjAHZIMT4+DsDg4GBCtCpxe3sLWAlPqjEzKi0KIbi7uwNifl0mIJkiEolwcHAAwMPDAwBra2sAbGxs0NnZaU3oXwBnmqbd/vr6mpK3OEwoHtJ9ZVv/VxTF9u3JHJqm2SYkK3mNjY0sLS0B8PT05MgHxahAQuekjZe2ehCnQDrIsnw8nA6yX6NAyWf+eJFs05LLMAy7zck9pkP8107XVypVIm9M08x6EbKvU7/kD5PtQpx44zl+TSz0H+5i1bEGFJm+AAAAAElFTkSuQmCC\" y=\"-119.916522\"/>\n   </g>\n  </g>\n  <g id=\"axes_11\">\n   <g clip-path=\"url(#p618e9a2f05)\">\n    <image height=\"48\" id=\"image17fe7d9e5c\" transform=\"scale(1 -1)translate(0 -48)\" width=\"48\" x=\"123.652174\" xlink:href=\"data:image/png;base64,\niVBORw0KGgoAAAANSUhEUgAAADAAAAAwCAYAAABXAvmHAAAABHNCSVQICAgIfAhkiAAABFxJREFUaIHtms0rvF0Yxz/3vDKGzCgZFCUsLJAdUzYsLMnfwE7JysrCVhaKjZKibGShhlLspvgLpChDForC4J7361nMc463Mc2Pe2h+z/Ot08x95jrXOWeul/M914wBCCUIm82Wff3ldXwbjt9ewFchknUcAwtcSJlTIZPJfFdl4XP/2ExFgiUb8Pv9+P1+IpEIkUiE+fl5fD4fPp/PCvV5UfIWsCQGFPr6+gDY3d2loqICgN7eXgCOjo6smuYNSt4CkLWApW1paUnS6bSk02lJJpOSTCZldnbW8nkAsdSFXsPpdAIQiUT088bGBgA7OzsA7O3tAd9LuyXvQkU7iZPJJAD19fUAdHV1MTAwALxYwDAMLR+LxQBob28H4OLioqB5St4CRYuBfKiqqgLg/v5e9yluc3x8DEBHR0deHcp6v7IBhbm5OQCmpqZ03+PjI5A93ZUb5sJfQ6ehCLm50OZ0OsXpdEomkxGFeDwu8XhclpeXxePxiMfj+Zj7DUMcDoc4HA4peQtYmkZHR0cB2NzcLEhe+fjrdOpyuQAIhULE4/FPx5aXlwP/x8DbZrPZxGazycDAgAwNDcnQ0FBB46anpyWRSEgikdAcqrm5uaD4sXQDqk1MTOigXFtbk7W1tbzyjY2NEgqFJBQK6SD2er15x9jtdrHb7aUfxFAEC7jdbnmPk5OTT+Wbmppkf39f9vf35fb2Vm5vb2VlZaUwty3yl/MjsNwCgJimKaZpvrFCIBCQQCDwQXZmZkZSqZSkUikte3BwoP083zxFo9MqT7e1tQGwsLDA09MTAG63G3g5B8LhMM/PzwBUVlYC0NnZqflOOp3+dJ6Sd6EfY6MVFRWYpgnA4uIiAAcHB0CWjXZ3dwPgcGSd4vn5mcHBQQAODw8/1fvftkBLSwsAZ2dnBcmri/75+TkAdXV1ACQSCX2xv7q6AqChoYH19XUAxsfHP9VZ8hb4chZyuVycnp6+6VteXgZgbGws55ienh4AAoEA8MJCRYS7uzsAtre3Abi+vtYZSWWjz8ovX8714XBYwuHwh1PXNE0ZHh6W4eFhLVteXi7BYFCCwaDEYjGJxWISjUYlGo3K5OSkuN1ucbvdmqS5XC7xer3i9XrFMIw3zW63a7mSdyFL0qiqKOSDaZr6gqLcJBwOA7C6ukoikfgw5r3rqGen00lra2u275tr/3VYYoFcdZ5ciEajQLZKB3B5eQmQt3ySC4ZhUFtbC1h0J354eADQJ63iQe+hyodK/k8XriAi3NzcAH+BC1nKRj0eD5ANMvVtq8B7eHhgdnYWIGfA/il0YH9b0y+jKPeBZDJJTU0NAP39/QCMjIywtbUFZOuegL4f2O12zfnzcf/XUKm75C1g2Gw2geL9uq74TnV1tT7IysrKAEilUsDbmFGZKZPJ6DXlWpvS61AUN5VKfRDU/0d4VfpT7wvdsNKhzgB4ubQoXR6PR5cUFanLZDIvi/xXXs0pIvqzknehfwAGpRsAWEK2+gAAAABJRU5ErkJggg==\" y=\"-119.916522\"/>\n   </g>\n  </g>\n  <g id=\"axes_12\">\n   <g clip-path=\"url(#p75c77ee7bb)\">\n    <image height=\"48\" id=\"image6b1230e467\" transform=\"scale(1 -1)translate(0 -48)\" width=\"48\" x=\"181.878261\" xlink:href=\"data:image/png;base64,\niVBORw0KGgoAAAANSUhEUgAAADAAAAAwCAYAAABXAvmHAAAABHNCSVQICAgIfAhkiAAAA5tJREFUaIHtmj9L61AYxn8nMWkqCtKKIIKDgqBIP4A4FBR0cFRHB9EP4egobm6CIC4Orro6+AEURBQcRHFQRJH4D01jc+4QTmJtmlav3t6WPhACzcn59z7nOc97UgFIahCapvn3Kvfjr9FU7Q58F1L6xBHUKIUUap5CjQFUG40BVBv/jYyqjUnB87zY8kII/84vyahqQOl1pRgeHgbAtm1OTk6A6MHoug40KFSIgYEBAI6Ojoookc1m2dvbK1tHb28vALlcjvf3dwBOT0+BwmiqCNd8BMBfAz9+2bYtbduWnudJz/Pk+fl5Re9ZliUty5KdnZ3SNE1pmmZkOSGEFELIX1OhtrY2AJqa/Cb29/dpbW0FQio8Pz8Xvff29gbA7e1tWSWCOqDQP3WjU1NTAGxubgJhdK6vr1leXgZgY2PD75gQPD09Af6CLoWajwBUuCjVoqm0fNwVB8dxpOM4cnx8XCaTSZlMJmPrqvkIVKxCX7UEcbAsCwgV5yMMwwDg/v4+8vlnVMXMOY4DwO7uLgAjIyPBBKndN51OB7t5Pp8vWVfNU6iqSb3yM319fWQyGcCnDvjeaXFxEQijEoVGBD5CbUajo6P09/cDsLq6CsDW1hbHx8cAPDw8AKEwaJoWaRvicopfTWi2t7eZmJgoaNx1Xc7OzgDfFwHMzMyU7GAchBAkEgmgQaFoZDIZDg8Py5abn58HYH19PVYqP8MwDHp6eoBGBEpUKgSzs7MArK2tlS3vui7pdBogcKBx0HWdjo4OoA4iEGsllFTB15TCNM3A6+/s7AAEqhQFwzB4fHwE4ObmBoChoSEuLi6A4mOVfD7P3d2d30cqoJAQ4stSp3yMSi3HxsYYHBwEYGFhIai3FBzHYXJyEggn4XOfoA4o9M+8kK7rQVK/tLQEwNzcHFB8rKigkv6uri6AgGYf0YgAhMm5mslcLlfkY6LWUSqVAvyTt/b29qJ6XdctKBd1DPMjCY3aRQODJQSmaQLhiYJhGIEtVqqirHN3dzfT09MArKysAJBIJLi8vCyoIwoNCpWCopWKimmavLy8lH1PucxsNhto/cHBAVCnh7u/5oXUTKq1kEqluLq6AsLFGbc5appGS0sLUOyPpJR19FeD734KKgelTM3NzYBvKVQqqVTl9fUViP6E5Hle8FxBzbrneUFkm9SPUsqgou8OKlhYmhY0psLvOE5Anc/JSymvpcopQVCHXq7rBgOoeQr9AQ8L5HRUGS0yAAAAAElFTkSuQmCC\" y=\"-119.916522\"/>\n   </g>\n  </g>\n  <g id=\"axes_13\">\n   <g clip-path=\"url(#p7c319b14bf)\">\n    <image height=\"48\" id=\"image54a4d9f61e\" transform=\"scale(1 -1)translate(0 -48)\" width=\"48\" x=\"7.2\" xlink:href=\"data:image/png;base64,\niVBORw0KGgoAAAANSUhEUgAAADAAAAAwCAYAAABXAvmHAAAABHNCSVQICAgIfAhkiAAABApJREFUaIHtmb1LK00Uxn/74eYD0xhSaBAsBYM2giCpxEIE/QssLO1s1FJQROxEwcLaxlZBwcbqoiBWflQiBoIJUUPEGONHducWeWezSZSb3BsN8fWBZZPdmXNm5jznzJmzCiBoQCiKAoBa53H8Mxp+AgoNSiGJhrfAzwTqjZ8J1Bt6vQcAoOu6vTGZpgmAZVkV9f0UC+i6TiAQIBAIVNTesiyCwSDBYJBkMkkymWR9fR1FUeyJfYSGpxDkN7KaXD6fT/h8PjEyMiKy2azIZrMiFouJWCwmhoaGPuynqqoIh8MiHA4L0zSFaZrCsiyRSCREIpEQuq4LXdff7/slS/SJqKkTp9NpAHZ3d9nZ2QFgYGAAgMHBQfb29gAQojh7sSyLX79+AeDz+QBYWFjg9PQUAE3TgIKDCyFs3/i0XKi5uRmA5eVlAPr7++nr6wPg8fGxIhkejweAbDYLgKrmCWNZFoZh5J/Vbsj1QU0o5Ha7AXC5XEDe1C0tLUAhnhuGwezsLADz8/PAny0hV15CylJVFV3PD73hLVATH1haWgJgenoagLe3N15fXwG4uLgAIBQKcXV1BcDBwQEAExMTAHbbavBtfKAmFpB8vLy8BKC1tdV+lkqlADg+PmZtbQ2AsbExAMbHxwF4enqqWuenhNHJyUkAFhcX8Xq9QCF239zcMDw8DBRoJZ200sTNiW9TlYAa5kJer1d4vV6RTqdFKY6OjkQoFBKhUEhomiY0TROGYQjDMITH4xGKoghFUarW2fAWqGkuJLkciUTo6uoCCnmPYRhEIpGidhJbW1u2I5+cnACwurrK/f19kYyPUDMKOS9JE7/fL/x+v1BVtayNpM3U1JSIRqMiGo2KTCYjMpmM2NjYEB6PR3g8nu9NobpW5uRumkql7MxThsdcLsfKygoAMzMzwPvh9scCf4POzk4Azs7OgMKBpRS5XA4Av98PwMPDQ1mbhrfAl9WFVFWlu7sbgMPDQ+DjlXf2AWhvbwfg/Py8rM2XTcDn89Hb2wtAU1NTRX1isRiQz6Og4ODOM/H/j0LOVagEkiajo6PMzc0B5eFQUZQyedfX1/bOfXd3Vyb32xwp/9oH3lu10vdQcMCOjg729/cB7JqpzHvi8Tibm5sA3N7e2jKkE7+nR1qx6n1ADkzXdXsnfXl5KVJkmqb9rq2tDYCenh7i8XjRpLa3t+1+MuZXCknNhqfQP+3EpSaW/03TtH/LlXK5XPYRUtaPpOUsy6o4KEj8VCWKhMgKwX93y7LKnqmqWlRZg8KBX9O0osJtJfg2FtCr3ZgqgfPTkPMudZT6jNvt5vn5ueidEKKsvVOW9C3d6YjV1mf+9P3KqdxJK6lTQtM0u44kJ+IMq6XtnXobnkK/AR2mKL4kgXCzAAAAAElFTkSuQmCC\" y=\"-176.64\"/>\n   </g>\n  </g>\n  <g id=\"axes_14\">\n   <g clip-path=\"url(#pc7f7364ab7)\">\n    <image height=\"48\" id=\"imagecbf232b684\" transform=\"scale(1 -1)translate(0 -48)\" width=\"48\" x=\"65.426087\" xlink:href=\"data:image/png;base64,\niVBORw0KGgoAAAANSUhEUgAAADAAAAAwCAYAAABXAvmHAAAABHNCSVQICAgIfAhkiAAAA7hJREFUaIHtmb1LM0sUxn8TkxhjLERiUEQCFgpGCSaFH6VgIZa2FoqNCIJd/AfsrLSwiqWQ2Il2gpDOUiQWsdFK/EKIiBuTnVvkzhrdzccb9/WSax5YCLNnzpnZ8/XMRACSBobjv17Ad2HrBoQQCCHsVFkVtm5ASomUkmQyafxOp9Ok02k7zXxCw4eQ4C8kcTabxefzmcadTicAhULBNltND5SDrutFAyVJLWXRlNfrBeDt7e3bdpoeqIaNjQ0ANjc3zcZtKrnypx5N06SmafIr4vF43Tp/XwhdXl4CcHNzw+HhIQA7Ozt/ZFQlsxXW1tYA2N7erknX7/NAKfx+PwD39/d1zbcqtcbC/iDBfyyJyz1WWF5ebibxj0KF493dnTHW2dkJwPPzc9l5De8BsDGWg8GgDAaDMhQKmWJ6fHy8Jh3hcFiGw2GZzWZlIpGQiUSimQN1wapZuVwuAPL5fE06WltbAdA0razMX09iq410d3cD9fePUvzuEFLdshK3UdA0DbfbXVFPPfh9HpicnATg9PTUSMrd3V0AVlZWKs5V7HVubs70zuEofstK3rTkTHwjhL4aGx4eBqh6D3R+fg7AyMiIMfb+/g5AT08PAI+Pj2Xnl16gNXwIwTc6bzQaldFo1NR1XS5XTfNjsZiMxWKWbHRoaEi6XK6yutxut3S73Y3ficEGDpTJZGQmk7H8kpFIREYikYrzt7a2pK7rUtd1Y16hUJChUEiGQiGTvBBCejwe6fF4Gt8DtlKJag2to6MDgJeXl0/jbW1tzM7OArC3twcUzwXr6+sAHB8fAx93qg6Hg5aWFgCcNq0d+KjTt7e3BAIB0/tsNgvA6+srAO3t7UCxSx8dHQGwtLQEwPT0tEHi1KWwWrTX6zUuj5shVA7X19cA9Pf3l5VRtPri4oL9/X3go6v7/X6DTqtjppLv7e1ldHQUaHqgdlRLcJUfExMTAFxdXRlcS+WM4ks+n4+uri7gh28l4vE4AIuLi2Vlzs7OgCJpVBdfXzcvhDCoeTOE6kEymQRgfn7e9O7h4QGAgYEBo18oT5RChVfDewBsvBeq9RFCSCGETKVSMpVKSV3XZT6fl/l8XuZyOZnL5eTCwoIMBAIyEAgY8lY6Gt4DTlWarOKsVng8HuDj38enp6eK8qqqKP5zcHDA4ODgp3XMzMwYzVDlRWlVUut2Kn4hhDBtolrtVnPVBvr6+oAi6VK1Wx0VraBkVldXmZqaAmBsbAyAk5MTcrlccZH/ciHViXVd//8cKf8BfmfNp6J4St8AAAAASUVORK5CYII=\" y=\"-176.64\"/>\n   </g>\n  </g>\n  <g id=\"axes_15\">\n   <g clip-path=\"url(#pcb10cdd9b2)\">\n    <image height=\"48\" id=\"image823afd9a5a\" transform=\"scale(1 -1)translate(0 -48)\" width=\"48\" x=\"123.652174\" xlink:href=\"data:image/png;base64,\niVBORw0KGgoAAAANSUhEUgAAADAAAAAwCAYAAABXAvmHAAAABHNCSVQICAgIfAhkiAAAAy5JREFUaIHtmc0rdFEcxz/nDLplxihlYUF2FsNOkZTYs/Qn2NpZ2ikre3+CsrCjlJVslKJEIRkkLxvSjGvmHov7nDPv19x57jUuvnWbOu/nfH/vIwBFhCGbfYD/xd8FwoIQoq5x3/YC9aKl2QeohWIGlKptZyLPgCAkM6pf0Ov1gsAfA82GbyWW0iXNcZy6xmtRisfjdHd3A9Db2wvAzs6O3+0r1v09IhSLxQC4ubkBoLOz0/Sl02kAJiYmALi9vTXKqxl7eHggmUyWrDU7OwvA2tqa/4P/OgaqTvZpKldWVgCYn58HIJ/PA9DS0rg//VIr1NbWBsDb21tJez6fb/gSv1uEGsX09DQAGxsbpm11dRWAubk5X2tFngFwGWjKZ9u2sm1bVUM6na5rjT8GgvhGRkZUJpNRmUymhIVUKqVSqZTn3G8XzBX7FO3h+/v7gYLfKEbkRSi0lFK/lo6FXl5e6Ojo+HTewsICAMvLy2b8j04pQ2Hg6urKvLxGIpEwL+lVMtnd3QUgm83y/PwMeOceoSnx4eEhAIODgxV95aF2MXTb6Ogo5+fnANzd3dXcJ/IiFLoZnZqaAmB7e7uib39/H4Dh4eGqcy3LAlxxqoXIMwBf5G3v7++rxjxKKWVZVsPrRp6BQC4ghPi0mry+vl6zrzxD+2wfIQRSSqSUwSjxzMwMACcnJwCcnp5WjEkmkya2SSQSQMGcxmIxXyVIKaVJQSMvQoF4Yh33HB8fA2DbNo+Pj0Ch+jY+Pk48Hi+Z9/r6Crii4YcBpZSpLUWegUAdmVZGXT4ph35l7Ziur68BGBoa8nRW1aCNRqDB3NLSEgCLi4ueVkmL3NbWFuAqtd8LmHiqkYN+J4QSC0kpjUL39fUBrrhcXl4CBRHa3NwE4ODggL29PcA7eam6VxAHbiZCSWgcxzF5gC7D9/T0mOhycnISgKOjIwDGxsa4uLgA3DK8XqMeNiLPgJBSKqj/L6NGYVmWcf/t7e0ADAwMANDa2srZ2RkAT09PgGuS9ZlyuVzNdcW/UJZcLmfMmzaBQV6q2KxqL6p/u7q6eH9/BwoKns1mjQiVi5LjOD/HE38AyjjnboEEE/EAAAAASUVORK5CYII=\" y=\"-176.64\"/>\n   </g>\n  </g>\n  <g id=\"axes_16\">\n   <g clip-path=\"url(#p07521e5e56)\">\n    <image height=\"48\" id=\"image5a39476bd7\" transform=\"scale(1 -1)translate(0 -48)\" width=\"48\" x=\"181.878261\" xlink:href=\"data:image/png;base64,\niVBORw0KGgoAAAANSUhEUgAAADAAAAAwCAYAAABXAvmHAAAABHNCSVQICAgIfAhkiAAAA1FJREFUaIHtmb9L814Uxj+3NRoq1VSqoAiNWqHdBAcHBekkKIgODkL/HxdX/4KAqItODo4ugoMODjq4iYOLixpiTLzv0O/NWzXaX/Et4ZsHuiT3npN7z/Oce86tACT/GEIIAKTs3HWqYwtdRlcWkM/nyefzkdjqygKq1SrVapVMJkMmk+nIVuwpJOiiiMfGxgC4v79v21YSgW4j9hGI/QJ6ojSWStX2I5vNsrq6CoBlWVG6+OrzV63/I8iofrlcTuZyOTkzMyM9z5Oe50mFp6enyPzU/2IfgV9Lo7u7uwBsbm4Gz46PjwFYWVmJzM+vnwOe5wGQTqeDZ9lsFoDn5+eO7ScUaoT39/eao//qn3r09NSyuO/7bdtPItAIYRpQ2NvbAz4KvVUkEYCfm/SDgwMANjY2vrxTWUhlpbZ8E8ECVFto2/a3YzzP+0Ij13UB6Ovra9v3/5tCKvTT09MAXF5eAuFUMgyDx8fHmtNPKTWdTgfptlXEPgLQZNUnhJBCCFkqlWSpVJLn5+fStm1p27a0LEtaliVN05SmaX4733Ec6TiO/IzDw8O2q9GmGxpFi9vbWwAWFxdZXl4GYGpqCgBd13+cr8T++voK/D2J5+bmAoE3eyorGsaeQm2LWAgRtJDDw8MAnJ2dATA5ORkqZNM0AdjZ2QFgfn4egMHBQfb39wHY2toC4Orq6kdhJxEIg2EYABSLRba3twFYWFgA4Pr6mtHRUeBvfTQyMlL7iLq0qnbdcRxmZ2cBuLm5+frhSQQa4OXlBSD09lntstLQd1hfXwfg6Ojo2zGR3gvVo7+/H6hRB6BUKgXvGn24guM4DcfEnkKhCxBCfBBWWDvYLMrlMuVymZOTk5bnVioVKpXKj2NiH4FQDYQdQorTipetNuJLS0vc3d0BMD4+3nC8lJKLi4umbDdVNOm6LnVdl4VCQRYKhbYKL8MwpGEY0nVd6bqu9H1f+r7/obBTV5Knp6dS0zSpaVpytfhxQgR/UheLRQDW1tYAmJiYYGBgAIC3tzegVi8pCoX5Sk7iKKB6gKGhoeCZShYPDw9B3xBWlarDMIkAtK8LNa+3tzfYZU3TgFrFqlJ1WMpW0ROpVEpCeJhaRScC/1wf1dsIs6cWGnsK/QF7gMClgEzlZAAAAABJRU5ErkJggg==\" y=\"-176.64\"/>\n   </g>\n  </g>\n </g>\n <defs>\n  <clipPath id=\"p1aa56178a0\">\n   <rect height=\"47.269565\" width=\"47.269565\" x=\"7.2\" y=\"7.2\"/>\n  </clipPath>\n  <clipPath id=\"p11ba83a9fb\">\n   <rect height=\"47.269565\" width=\"47.269565\" x=\"65.426087\" y=\"7.2\"/>\n  </clipPath>\n  <clipPath id=\"pb670116cba\">\n   <rect height=\"47.269565\" width=\"47.269565\" x=\"123.652174\" y=\"7.2\"/>\n  </clipPath>\n  <clipPath id=\"p3558c6f2c7\">\n   <rect height=\"47.269565\" width=\"47.269565\" x=\"181.878261\" y=\"7.2\"/>\n  </clipPath>\n  <clipPath id=\"p83fa251a1d\">\n   <rect height=\"47.269565\" width=\"47.269565\" x=\"7.2\" y=\"63.923478\"/>\n  </clipPath>\n  <clipPath id=\"p1eec338d62\">\n   <rect height=\"47.269565\" width=\"47.269565\" x=\"65.426087\" y=\"63.923478\"/>\n  </clipPath>\n  <clipPath id=\"pfd17692000\">\n   <rect height=\"47.269565\" width=\"47.269565\" x=\"123.652174\" y=\"63.923478\"/>\n  </clipPath>\n  <clipPath id=\"pb9a53bc493\">\n   <rect height=\"47.269565\" width=\"47.269565\" x=\"181.878261\" y=\"63.923478\"/>\n  </clipPath>\n  <clipPath id=\"p5257c2a5a2\">\n   <rect height=\"47.269565\" width=\"47.269565\" x=\"7.2\" y=\"120.646957\"/>\n  </clipPath>\n  <clipPath id=\"p5025c7936f\">\n   <rect height=\"47.269565\" width=\"47.269565\" x=\"65.426087\" y=\"120.646957\"/>\n  </clipPath>\n  <clipPath id=\"p618e9a2f05\">\n   <rect height=\"47.269565\" width=\"47.269565\" x=\"123.652174\" y=\"120.646957\"/>\n  </clipPath>\n  <clipPath id=\"p75c77ee7bb\">\n   <rect height=\"47.269565\" width=\"47.269565\" x=\"181.878261\" y=\"120.646957\"/>\n  </clipPath>\n  <clipPath id=\"p7c319b14bf\">\n   <rect height=\"47.269565\" width=\"47.269565\" x=\"7.2\" y=\"177.370435\"/>\n  </clipPath>\n  <clipPath id=\"pc7f7364ab7\">\n   <rect height=\"47.269565\" width=\"47.269565\" x=\"65.426087\" y=\"177.370435\"/>\n  </clipPath>\n  <clipPath id=\"pcb10cdd9b2\">\n   <rect height=\"47.269565\" width=\"47.269565\" x=\"123.652174\" y=\"177.370435\"/>\n  </clipPath>\n  <clipPath id=\"p07521e5e56\">\n   <rect height=\"47.269565\" width=\"47.269565\" x=\"181.878261\" y=\"177.370435\"/>\n  </clipPath>\n </defs>\n</svg>\n",
      "image/png": "[encoded data removed]"
     },
     "metadata": {
      "needs_background": "light"
     }
    },
    {
     "output_type": "stream",
     "name": "stdout",
     "text": "Time for epoch 10 is 127.42127466201782 sec\n"
    }
   ],
   "metadata": {},
   "execution_count": 35
  },
  {
   "cell_type": "markdown",
   "metadata": {
    "colab_type": "text",
    "id": "rfM4YcPVPkNO"
   },
   "source": [
    "Restore the latest checkpoint."
   ]
  },
  {
   "source": [
    "checkpoint.restore(tf.train.latest_checkpoint(checkpoint_dir))"
   ],
   "cell_type": "code",
   "outputs": [
    {
     "output_type": "execute_result",
     "data": {
      "text/plain": "<tensorflow.python.training.tracking.util.InitializationOnlyStatus at 0x7fb380a784d0>"
     },
     "metadata": {},
     "execution_count": 36
    }
   ],
   "metadata": {},
   "execution_count": 36
  },
  {
   "cell_type": "markdown",
   "metadata": {
    "colab_type": "text",
    "id": "P4M_vIbUi7c0"
   },
   "source": [
    "## Create a GIF\n"
   ]
  },
  {
   "source": [
    "# Display a single image using the epoch number\n",
    "def display_image(epoch_no):\n",
    "  return PIL.Image.open('image_at_epoch_{:04d}.png'.format(epoch_no))"
   ],
   "cell_type": "code",
   "outputs": [],
   "metadata": {},
   "execution_count": 37
  },
  {
   "source": [
    "display_image(EPOCHS)"
   ],
   "cell_type": "code",
   "outputs": [
    {
     "output_type": "execute_result",
     "data": {
      "text/plain": "<PIL.PngImagePlugin.PngImageFile image mode=RGBA size=288x288 at 0x7FB3B0499250>",
      "image/png": "[encoded data removed]"
     },
     "metadata": {},
     "execution_count": 38
    }
   ],
   "metadata": {},
   "execution_count": 38
  },
  {
   "cell_type": "markdown",
   "metadata": {
    "colab_type": "text",
    "id": "NywiH3nL8guF"
   },
   "source": [
    "Use `imageio` to create an animated gif using the images saved during training."
   ]
  },
  {
   "source": [
    "anim_file = 'dcgan.gif'\n",
    "\n",
    "with imageio.get_writer(anim_file, mode='I') as writer:\n",
    "  filenames = glob.glob('image*.png')\n",
    "  filenames = sorted(filenames)\n",
    "  last = -1\n",
    "  for i,filename in enumerate(filenames):\n",
    "    frame = 2*(i**0.5)\n",
    "    if round(frame) > round(last):\n",
    "      last = frame\n",
    "    else:\n",
    "      continue\n",
    "    image = imageio.imread(filename)\n",
    "    writer.append_data(image)\n",
    "  image = imageio.imread(filename)\n",
    "  writer.append_data(image)\n",
    "\n",
    "import IPython\n",
    "if IPython.version_info > (6,2,0,''):\n",
    "  display.Image(filename=anim_file)"
   ],
   "cell_type": "code",
   "outputs": [],
   "metadata": {},
   "execution_count": 39
  },
  {
   "cell_type": "markdown",
   "metadata": {
    "colab_type": "text",
    "id": "cGhC3-fMWSwl"
   },
   "source": [
    "If you're working in Colab you can download the animation with the code below:"
   ]
  },
  {
   "source": [
    "try:\n",
    "  from google.colab import files\n",
    "except ImportError:\n",
    "   pass\n",
    "else:\n",
    "  files.download(anim_file)"
   ],
   "cell_type": "code",
   "outputs": [],
   "metadata": {},
   "execution_count": 40
  },
  {
   "cell_type": "markdown",
   "metadata": {
    "colab_type": "text",
    "id": "k6qC-SbjK0yW"
   },
   "source": [
    "## Next steps\n"
   ]
  },
  {
   "cell_type": "markdown",
   "metadata": {
    "colab_type": "text",
    "id": "xjjkT9KAK6H7"
   },
   "source": [
    "This tutorial has shown the complete code necessary to write and train a GAN. As a next step, you might like to experiment with a different dataset, for example the Large-scale Celeb Faces Attributes (CelebA) dataset [available on Kaggle](https://www.kaggle.com/jessicali9530/celeba-dataset/home). To learn more about GANs we recommend the [NIPS 2016 Tutorial: Generative Adversarial Networks](https://arxiv.org/abs/1701.00160).\n"
   ]
  }
 ],
 "metadata": {
  "accelerator": "GPU",
  "colab": {
   "collapsed_sections": [],
   "name": "dcgan.ipynb",
   "private_outputs": true,
   "provenance": [],
   "toc_visible": true
  },
  "kernelspec": {
   "display_name": "Python 3",
   "name": "python3"
  },
  "language_info": {
   "codemirror_mode": {
    "name": "ipython",
    "version": 3
   },
   "file_extension": ".py",
   "mimetype": "text/x-python",
   "name": "python",
   "nbconvert_exporter": "python",
   "pygments_lexer": "ipython3",
   "version": "3.7.5"
  }
 },
 "nbformat": 4,
 "nbformat_minor": 0
}